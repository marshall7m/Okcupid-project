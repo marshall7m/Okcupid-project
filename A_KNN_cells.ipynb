{
 "cells": [
  {
   "cell_type": "markdown",
   "metadata": {
    "toc": true
   },
   "source": [
    "<h1>Table of Contents<span class=\"tocSkip\"></span></h1>\n",
    "<div class=\"toc\"><ul class=\"toc-item\"></ul></div>"
   ]
  },
  {
   "cell_type": "code",
   "execution_count": 1,
   "metadata": {},
   "outputs": [],
   "source": [
    "import pandas as pd\n",
    "import numpy as np\n",
    "from matplotlib import pyplot as plt"
   ]
  },
  {
   "cell_type": "code",
   "execution_count": 2,
   "metadata": {
    "scrolled": true
   },
   "outputs": [],
   "source": [
    "#load data frame\n",
    "df = pd.read_csv('profiles.csv')"
   ]
  },
  {
   "cell_type": "code",
   "execution_count": null,
   "metadata": {},
   "outputs": [],
   "source": [
    "#create labels to predict\n",
    "df.loc[df['offspring'] == 'doesn&rsquo;t have kids, but wants them', 'offspring_label'] = 1\n",
    "df.loc[df['offspring'] == 'wants kids', 'offspring_label'] = 1\n",
    "df.loc[df['offspring'] == 'has a kid, and wants more', 'offspring_label'] = 1\n",
    "df.loc[df['offspring'] == 'has kids, and wants more', 'offspring_label'] = 1\n",
    "\n",
    "\n",
    "df.loc[df['offspring'] == 'doesn&rsquo;t want kids', 'offspring_label'] = 0\n",
    "df.loc[df['offspring'] == 'doesn&rsquo;t have kids, and doesn&rsquo;t want any', 'offspring_label'] = 0\n",
    "df.loc[df['offspring'] == 'has kids, but doesn&rsquo;t want more', 'offspring_label'] = 0\n",
    "df.loc[df['offspring'] == 'has a kid, but doesn&rsquo;t want more', 'offspring_label'] = 0\n"
   ]
  },
  {
   "cell_type": "code",
   "execution_count": null,
   "metadata": {},
   "outputs": [],
   "source": [
    "df2 = pd.get_dummies(df[['drinks', 'drugs', 'sex', 'orientation', 'smokes', 'job', 'age', 'income']])\n"
   ]
  },
  {
   "cell_type": "code",
   "execution_count": null,
   "metadata": {},
   "outputs": [],
   "source": [
    "features_to_remove = ['body_type','diet','education','ethnicity','height', 'status', 'location','sign','pets','religion','speaks', 'last_online', 'essay0', 'essay1', 'essay2', 'essay3', 'essay4', 'essay5', 'essay6', 'essay7', 'essay8', 'essay9', 'drinks', 'drugs', 'sex', 'orientation', 'smokes', 'job', 'age', 'income', 'offspring']\n",
    "df.drop(labels=features_to_remove, axis=1, inplace=True)"
   ]
  },
  {
   "cell_type": "code",
   "execution_count": null,
   "metadata": {},
   "outputs": [],
   "source": [
    "df = df.join(df2)"
   ]
  },
  {
   "cell_type": "code",
   "execution_count": null,
   "metadata": {
    "scrolled": true
   },
   "outputs": [],
   "source": [
    "df.dropna(axis = 0, subset = ['offspring_label'], inplace = True) \n"
   ]
  },
  {
   "cell_type": "code",
   "execution_count": null,
   "metadata": {},
   "outputs": [],
   "source": [
    "from sklearn.preprocessing import scale\n",
    "#normalize data\n",
    "\n",
    "labels = df['offspring_label']\n",
    "data = df[['age',\n",
    " 'income',\n",
    " 'drinks_desperately',\n",
    " 'drinks_not at all',\n",
    " 'drinks_often',\n",
    " 'drinks_rarely',\n",
    " 'drinks_socially',\n",
    " 'drinks_very often',\n",
    " 'drugs_never',\n",
    " 'drugs_often',\n",
    " 'drugs_sometimes',\n",
    " 'sex_f',\n",
    " 'sex_m',\n",
    " 'orientation_bisexual',\n",
    " 'orientation_gay',\n",
    " 'orientation_straight',\n",
    " 'smokes_no',\n",
    " 'smokes_sometimes',\n",
    " 'smokes_trying to quit',\n",
    " 'smokes_when drinking',\n",
    " 'smokes_yes',\n",
    " 'job_artistic / musical / writer',\n",
    " 'job_banking / financial / real estate',\n",
    " 'job_clerical / administrative',\n",
    " 'job_computer / hardware / software',\n",
    " 'job_construction / craftsmanship',\n",
    " 'job_education / academia',\n",
    " 'job_entertainment / media',\n",
    " 'job_executive / management',\n",
    " 'job_hospitality / travel',\n",
    " 'job_law / legal services',\n",
    " 'job_medicine / health',\n",
    " 'job_military',\n",
    " 'job_other',\n",
    " 'job_political / government',\n",
    " 'job_rather not say',\n",
    " 'job_retired',\n",
    " 'job_sales / marketing / biz dev',\n",
    " 'job_science / tech / engineering',\n",
    " 'job_student',\n",
    " 'job_transportation',\n",
    " 'job_unemployed']]\n",
    "scaled_data = scale(data, axis = 0)\n"
   ]
  },
  {
   "cell_type": "code",
   "execution_count": null,
   "metadata": {},
   "outputs": [],
   "source": [
    "from sklearn.model_selection import train_test_split\n",
    "\n",
    "train_data, test_data, train_labels, test_labels = train_test_split(scaled_data, labels, test_size = 0.2, random_state = 1)"
   ]
  },
  {
   "cell_type": "code",
   "execution_count": null,
   "metadata": {},
   "outputs": [],
   "source": [
    "#for runtime results\n",
    "\n",
    "#from sklearn.neighbors import KNeighborsClassifier\n",
    "\n",
    "#classifier = KNeighborsClassifier(n_neighbors = 42)\n",
    "#classifier.fit(train_data, train_labels)\n",
    "#%timeit classifier.score(test_data, test_labels)\n",
    "#%timeit classifier.predict(test_data)\n"
   ]
  },
  {
   "cell_type": "code",
   "execution_count": null,
   "metadata": {},
   "outputs": [],
   "source": [
    "from sklearn.neighbors import KNeighborsClassifier\n",
    "from sklearn.metrics import accuracy_score, f1_score, precision_score, recall_score\n",
    "\n",
    "accuracy = []\n",
    "recall = []\n",
    "precision = []\n",
    "f1 = []\n",
    "for k in range(1, 200):\n",
    "    classifier = KNeighborsClassifier(n_neighbors = k)\n",
    "    classifier.fit(train_data, train_labels)\n",
    "    predicted = classifier.predict(test_data)\n",
    "    accuracy.append(accuracy_score(test_labels, predicted))\n",
    "    recall.append(recall_score(test_labels, predicted))\n",
    "    precision.append(precision_score(test_labels, predicted))\n",
    "    f1.append(f1_score(test_labels, predicted))\n",
    "    k_values = range(1,200)\n",
    "    k_accuracy = list(zip(k_values, accuracy))\n",
    "    k_recall = list(zip(k_values, recall))\n",
    "    k_precision = list(zip(k_values, precision))\n",
    "    k_f1 = list(zip(k_values, f1))\n",
    "    best_accuracy = sorted(k_accuracy, key=lambda tup: tup[1], reverse = True)\n",
    "    best_recall = sorted(k_recall, key=lambda tup: tup[1], reverse = True)\n",
    "    best_precision = sorted(k_precision, key=lambda tup: tup[1], reverse = True)\n",
    "    best_f1 = sorted(k_f1, key=lambda tup: tup[1], reverse = True)\n",
    "print('Best Accuracy (k, score):', best_accuracy[0])\n",
    "print('Best Recall (k, score):', best_recall[0])\n",
    "print('Best Precision (k, score):', best_precision[0])\n",
    "print('Best F1 (k, score):', best_f1[0])\n",
    "\n"
   ]
  },
  {
   "cell_type": "code",
   "execution_count": null,
   "metadata": {},
   "outputs": [],
   "source": [
    "plt.figure(figsize = (10,8))    \n",
    "plt.plot(range(1,200), accuracy)\n",
    "plt.plot(range(1,200), recall)\n",
    "plt.plot(range(1,200), precision)\n",
    "plt.plot(range(1,200), f1)\n",
    "plt.xlabel('K-values')\n",
    "plt.ylabel('Scores')\n",
    "plt.legend(['Accuracy', 'Recall', 'Precision', 'F1'], loc='lower right')\n",
    "plt.show()\n",
    "\n",
    "\n"
   ]
  }
 ],
 "metadata": {
  "kernelspec": {
   "display_name": "Python 3",
   "language": "python",
   "name": "python3"
  },
  "language_info": {
   "codemirror_mode": {
    "name": "ipython",
    "version": 3
   },
   "file_extension": ".py",
   "mimetype": "text/x-python",
   "name": "python",
   "nbconvert_exporter": "python",
   "pygments_lexer": "ipython3",
   "version": "3.7.1"
  },
  "toc": {
   "base_numbering": 1,
   "nav_menu": {},
   "number_sections": true,
   "sideBar": true,
   "skip_h1_title": false,
   "title_cell": "Table of Contents",
   "title_sidebar": "Contents",
   "toc_cell": true,
   "toc_position": {},
   "toc_section_display": true,
   "toc_window_display": false
  },
  "varInspector": {
   "cols": {
    "lenName": 16,
    "lenType": 16,
    "lenVar": 40
   },
   "kernels_config": {
    "python": {
     "delete_cmd_postfix": "",
     "delete_cmd_prefix": "del ",
     "library": "var_list.py",
     "varRefreshCmd": "print(var_dic_list())"
    },
    "r": {
     "delete_cmd_postfix": ") ",
     "delete_cmd_prefix": "rm(",
     "library": "var_list.r",
     "varRefreshCmd": "cat(var_dic_list()) "
    }
   },
   "types_to_exclude": [
    "module",
    "function",
    "builtin_function_or_method",
    "instance",
    "_Feature"
   ],
   "window_display": false
  }
 },
 "nbformat": 4,
 "nbformat_minor": 2
}
